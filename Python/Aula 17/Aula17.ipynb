{
 "cells": [
  {
   "cell_type": "code",
   "execution_count": 7,
   "metadata": {},
   "outputs": [
    {
     "name": "stdout",
     "output_type": "stream",
     "text": [
      "['cesar.mello@inpe.br', 'outroemail@teste.com.br', 'jose_coves@gmail.com']\n"
     ]
    }
   ],
   "source": [
    "import re\n",
    "\n",
    "texto = \"Este é um exemplo de email: cesar.mello@inpe.br, outroemail@teste.com.br, jose_coves@gmail.com, catacteres_alfanuméricos@dominío.com\"\n",
    "\n",
    "emails_encontrados = re.findall(r'\\b[A-Za-z0-9._%+-]+@[A-Za-z0-9.-]+\\.[A-Z|a-z]{2,}\\b', texto)\n",
    "\n",
    "print(emails_encontrados)"
   ]
  },
  {
   "cell_type": "code",
   "execution_count": 9,
   "metadata": {},
   "outputs": [
    {
     "name": "stdout",
     "output_type": "stream",
     "text": [
      "['15/03/2022', '25/12/2023', '01/01/2024']\n"
     ]
    }
   ],
   "source": [
    "datas = \"Algumas datas são: 15/03/2022, 25/12/2023, 01/01/2024, 2023-04-01, 01-02-2034\"\n",
    "\n",
    "datas_encontradas = re.findall(r'\\b\\d{2}/\\d{2}/\\d{4}\\b', datas)\n",
    "\n",
    "print(datas_encontradas)"
   ]
  },
  {
   "cell_type": "code",
   "execution_count": 34,
   "metadata": {},
   "outputs": [
    {
     "name": "stdout",
     "output_type": "stream",
     "text": [
      "\n",
      " No site https://www.uol.com.br, foram encontradas 180 imagens.\n"
     ]
    }
   ],
   "source": [
    "from bs4 import BeautifulSoup\n",
    "import requests\n",
    "\n",
    "url = 'https://www.uol.com.br'\n",
    "response = requests.get(url)\n",
    "response.status_code\n",
    "\n",
    "soup = BeautifulSoup(response.text, 'html.parser')\n",
    "soup.prettify()\n",
    "cont_img = 0\n",
    "links = soup.find_all('img')\n",
    "\n",
    "print(f\"\\n No site {url}, foram encontradas {len(links)} imagens.\")\n"
   ]
  }
 ],
 "metadata": {
  "kernelspec": {
   "display_name": "Python 3",
   "language": "python",
   "name": "python3"
  },
  "language_info": {
   "codemirror_mode": {
    "name": "ipython",
    "version": 3
   },
   "file_extension": ".py",
   "mimetype": "text/x-python",
   "name": "python",
   "nbconvert_exporter": "python",
   "pygments_lexer": "ipython3",
   "version": "3.12.2"
  }
 },
 "nbformat": 4,
 "nbformat_minor": 2
}
