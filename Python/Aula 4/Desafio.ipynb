from plyer import notification 
from datetime import datetime

def alerta(nivel, base, etapa):

    now = str(datetime.now())

    msg = f"Falha no carregamento da base {base} na etapa {etapa}.\n{now}"

    if nivel == 1:
        titulo = "Alerta Baixo"
    elif nivel == 2:
        titulo = "Alerta Médio"
    elif nivel == 3:
        titulo = "Alerta Alto"

    notification.notify(
        title=titulo,
        message=msg,
        app_name='alerta',
        timeout=10 )

alerta(nivel = 2,
        base = "CLIENTES", 
        etapa = "EXTRACAO")
