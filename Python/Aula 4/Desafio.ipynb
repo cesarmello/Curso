<<<<<<< HEAD
{
 "cells": [
  {
   "cell_type": "code",
   "execution_count": 4,
   "metadata": {},
   "outputs": [],
   "source": [
    "from plyer import notification \n",
    "from datetime import datetime\n",
    "\n",
    "def alerta(nivel, base, etapa):\n",
    "\n",
    "    now = str(datetime.now())\n",
    "\n",
    "    msg = f\"Falha no carregamento da base {base} na etapa {etapa}.\\n{now}\"\n",
    "\n",
    "    if nivel == 1:\n",
    "        titulo = \"Alerta Baixo\"\n",
    "    elif nivel == 2:\n",
    "        titulo = \"Alerta Médio\"\n",
    "    elif nivel == 3:\n",
    "        titulo = \"Alerta Alto\"\n",
    "\n",
    "    notification.notify(\n",
    "        title=titulo,\n",
    "        message=msg,\n",
    "        app_name='alerta',\n",
    "        timeout=10 )\n",
    "\n",
    "alerta(nivel = 2,\n",
    "        base = \"CLIENTES\", \n",
    "        etapa =\"EXTRACAO\")"
   ]
  }
 ],
 "metadata": {
  "kernelspec": {
   "display_name": "Python 3",
   "language": "python",
   "name": "python3"
  },
  "language_info": {
   "codemirror_mode": {
    "name": "ipython",
    "version": 3
   },
   "file_extension": ".py",
   "mimetype": "text/x-python",
   "name": "python",
   "nbconvert_exporter": "python",
   "pygments_lexer": "ipython3",
   "version": "3.12.2"
  }
 },
 "nbformat": 4,
 "nbformat_minor": 2
}
=======
from plyer import notification 
from datetime import datetime

def alerta(nivel, base, etapa):

    now = str(datetime.now())

    msg = f"Falha no carregamento da base {base} na etapa {etapa}.\n{now}"

    if nivel == 1:
        titulo = "Alerta Baixo"
    elif nivel == 2:
        titulo = "Alerta Médio"
    elif nivel == 3:
        titulo = "Alerta Alto"

    notification.notify(
        title=titulo,
        message=msg,
        app_name='alerta',
        timeout=10 )

alerta(nivel = 2,
        base = "CLIENTES", 
        etapa = "EXTRACAO")
>>>>>>> dec2694605c1aca4259501a5abe4c349ff1e85f6
